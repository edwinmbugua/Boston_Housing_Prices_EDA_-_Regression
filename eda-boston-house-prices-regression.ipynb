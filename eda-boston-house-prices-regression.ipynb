{
 "cells": [
  {
   "cell_type": "markdown",
   "id": "efc7fb28",
   "metadata": {
    "papermill": {
     "duration": 0.036386,
     "end_time": "2021-11-05T21:45:22.660028",
     "exception": false,
     "start_time": "2021-11-05T21:45:22.623642",
     "status": "completed"
    },
    "tags": []
   },
   "source": [
    "The notebook uses regression machine learning models to being to predict the house prices given a set of house features."
   ]
  },
  {
   "cell_type": "code",
   "execution_count": 1,
   "id": "d369658b",
   "metadata": {
    "_cell_guid": "b1076dfc-b9ad-4769-8c92-a6c4dae69d19",
    "_uuid": "8f2839f25d086af736a60e9eeb907d3b93b6e0e5",
    "execution": {
     "iopub.execute_input": "2021-11-05T21:45:22.736007Z",
     "iopub.status.busy": "2021-11-05T21:45:22.734047Z",
     "iopub.status.idle": "2021-11-05T21:45:22.760392Z",
     "shell.execute_reply": "2021-11-05T21:45:22.760924Z",
     "shell.execute_reply.started": "2021-11-02T19:01:03.171785Z"
    },
    "papermill": {
     "duration": 0.065365,
     "end_time": "2021-11-05T21:45:22.761236",
     "exception": false,
     "start_time": "2021-11-05T21:45:22.695871",
     "status": "completed"
    },
    "tags": []
   },
   "outputs": [
    {
     "name": "stdout",
     "output_type": "stream",
     "text": [
      "/kaggle/input/boston-house-prices/housing.csv\n"
     ]
    }
   ],
   "source": [
    "# This Python 3 environment comes with many helpful analytics libraries installed\n",
    "# It is defined by the kaggle/python Docker image: https://github.com/kaggle/docker-python\n",
    "# For example, here's several helpful packages to load\n",
    "\n",
    "import numpy as np # linear algebra\n",
    "import pandas as pd # data processing, CSV file I/O (e.g. pd.read_csv)\n",
    "\n",
    "# Input data files are available in the read-only \"../input/\" directory\n",
    "# For example, running this (by clicking run or pressing Shift+Enter) will list all files under the input directory\n",
    "\n",
    "import os\n",
    "for dirname, _, filenames in os.walk('/kaggle/input'):\n",
    "    for filename in filenames:\n",
    "        print(os.path.join(dirname, filename))\n",
    "\n",
    "# You can write up to 20GB to the current directory (/kaggle/working/) that gets preserved as output when you create a version using \"Save & Run All\" \n",
    "# You can also write temporary files to /kaggle/temp/, but they won't be saved outside of the current session"
   ]
  },
  {
   "cell_type": "code",
   "execution_count": 2,
   "id": "2d7e1306",
   "metadata": {
    "execution": {
     "iopub.execute_input": "2021-11-05T21:45:22.838104Z",
     "iopub.status.busy": "2021-11-05T21:45:22.837246Z",
     "iopub.status.idle": "2021-11-05T21:45:24.184157Z",
     "shell.execute_reply": "2021-11-05T21:45:24.183599Z",
     "shell.execute_reply.started": "2021-11-02T19:16:51.141184Z"
    },
    "papermill": {
     "duration": 1.38841,
     "end_time": "2021-11-05T21:45:24.184353",
     "exception": false,
     "start_time": "2021-11-05T21:45:22.795943",
     "status": "completed"
    },
    "tags": []
   },
   "outputs": [],
   "source": [
    "#Load our libraries\n",
    "import numpy as np\n",
    "import pandas as pd\n",
    "import matplotlib.pyplot as plt\n",
    "import seaborn as sns\n",
    "#scikit-learn models\n",
    "from sklearn.model_selection import train_test_split\n",
    "from sklearn.linear_model import LinearRegression\n",
    "from sklearn.ensemble import RandomForestRegressor\n",
    "from sklearn.tree import DecisionTreeRegressor\n",
    "#model evaluation metrics\n",
    "from sklearn.metrics import r2_score,mean_absolute_error,mean_squared_error\n",
    "#We want our plots appear inside our notebook\n",
    "%matplotlib inline"
   ]
  },
  {
   "cell_type": "markdown",
   "id": "7775eef3",
   "metadata": {
    "papermill": {
     "duration": 0.033338,
     "end_time": "2021-11-05T21:45:24.251518",
     "exception": false,
     "start_time": "2021-11-05T21:45:24.218180",
     "status": "completed"
    },
    "tags": []
   },
   "source": [
    "## 1.Problem Definition\n",
    "Given a set of a house features can we be able to predict it's price."
   ]
  },
  {
   "cell_type": "code",
   "execution_count": 3,
   "id": "56a4f9ff",
   "metadata": {
    "execution": {
     "iopub.execute_input": "2021-11-05T21:45:24.322177Z",
     "iopub.status.busy": "2021-11-05T21:45:24.321546Z",
     "iopub.status.idle": "2021-11-05T21:45:24.339157Z",
     "shell.execute_reply": "2021-11-05T21:45:24.339787Z",
     "shell.execute_reply.started": "2021-11-02T19:06:48.560388Z"
    },
    "papermill": {
     "duration": 0.054693,
     "end_time": "2021-11-05T21:45:24.339970",
     "exception": false,
     "start_time": "2021-11-05T21:45:24.285277",
     "status": "completed"
    },
    "tags": []
   },
   "outputs": [],
   "source": [
    "#Load our data\n",
    "data=pd.read_csv(\"../input/boston-house-prices/housing.csv\")"
   ]
  },
  {
   "cell_type": "markdown",
   "id": "86f74be1",
   "metadata": {
    "papermill": {
     "duration": 0.033312,
     "end_time": "2021-11-05T21:45:24.407460",
     "exception": false,
     "start_time": "2021-11-05T21:45:24.374148",
     "status": "completed"
    },
    "tags": []
   },
   "source": [
    "## 2. Data Background\n",
    "\n",
    "* This dataset contains information collected by the U.S Census Service concerning housing in the area of Boston Mass.\n",
    "The data was obtained from the StatLib archive (http://lib.stat.cmu.edu/datasets/boston).\n",
    "\n",
    "* The data was originally published by Harrison, D. and Rubinfeld, D.L. `Hedonic prices and the demand for clean air', J.          Environ. Economics & Management, vol.5, 81-102, 1978.\n",
    "\n",
    "## 3. Data Features\n",
    "From the shared information this dataset containes 14 attributes(columns) namely:\n",
    "\n",
    "1. CRIM - per capita crime rate by town\n",
    "2. ZN - proportion of residential land zoned for lots over 25,000 sq.ft.\n",
    "3. INDUS - proportion of non-retail business acres per town.\n",
    "4. CHAS - Charles River dummy variable (1 if tract bounds river; 0 otherwise)\n",
    "5. NOX - nitric oxides concentration (parts per 10 million)\n",
    "6. RM - average number of rooms per dwelling\n",
    "7. AGE - proportion of owner-occupied units built prior to 1940\n",
    "8. DIS - weighted distances to five Boston employment centres\n",
    "9. RAD - index of accessibility to radial highways\n",
    "10. TAX - full-value property-tax rate per dollars 10,000\n",
    "11. PTRATIO - pupil-teacher ratio by town\n",
    "12. B - 1000(Bk - 0.63)^2 where Bk is the proportion of blacks by town\n",
    "13. LSTAT - % lower status of the population\n",
    "14. MEDV - Median value of owner-occupied homes in dollars 1000's"
   ]
  },
  {
   "cell_type": "code",
   "execution_count": 4,
   "id": "9e54d282",
   "metadata": {
    "execution": {
     "iopub.execute_input": "2021-11-05T21:45:24.483020Z",
     "iopub.status.busy": "2021-11-05T21:45:24.476900Z",
     "iopub.status.idle": "2021-11-05T21:45:24.494508Z",
     "shell.execute_reply": "2021-11-05T21:45:24.495012Z",
     "shell.execute_reply.started": "2021-11-02T19:10:36.407573Z"
    },
    "papermill": {
     "duration": 0.054179,
     "end_time": "2021-11-05T21:45:24.495184",
     "exception": false,
     "start_time": "2021-11-05T21:45:24.441005",
     "status": "completed"
    },
    "tags": []
   },
   "outputs": [
    {
     "data": {
      "text/html": [
       "<div>\n",
       "<style scoped>\n",
       "    .dataframe tbody tr th:only-of-type {\n",
       "        vertical-align: middle;\n",
       "    }\n",
       "\n",
       "    .dataframe tbody tr th {\n",
       "        vertical-align: top;\n",
       "    }\n",
       "\n",
       "    .dataframe thead th {\n",
       "        text-align: right;\n",
       "    }\n",
       "</style>\n",
       "<table border=\"1\" class=\"dataframe\">\n",
       "  <thead>\n",
       "    <tr style=\"text-align: right;\">\n",
       "      <th></th>\n",
       "      <th>0.00632  18.00   2.310  0  0.5380  6.5750  65.20  4.0900   1  296.0  15.30 396.90   4.98  24.00</th>\n",
       "    </tr>\n",
       "  </thead>\n",
       "  <tbody>\n",
       "    <tr>\n",
       "      <th>0</th>\n",
       "      <td>0.02731   0.00   7.070  0  0.4690  6.4210  78...</td>\n",
       "    </tr>\n",
       "    <tr>\n",
       "      <th>1</th>\n",
       "      <td>0.02729   0.00   7.070  0  0.4690  7.1850  61...</td>\n",
       "    </tr>\n",
       "    <tr>\n",
       "      <th>2</th>\n",
       "      <td>0.03237   0.00   2.180  0  0.4580  6.9980  45...</td>\n",
       "    </tr>\n",
       "    <tr>\n",
       "      <th>3</th>\n",
       "      <td>0.06905   0.00   2.180  0  0.4580  7.1470  54...</td>\n",
       "    </tr>\n",
       "    <tr>\n",
       "      <th>4</th>\n",
       "      <td>0.02985   0.00   2.180  0  0.4580  6.4300  58...</td>\n",
       "    </tr>\n",
       "  </tbody>\n",
       "</table>\n",
       "</div>"
      ],
      "text/plain": [
       "   0.00632  18.00   2.310  0  0.5380  6.5750  65.20  4.0900   1  296.0  15.30 396.90   4.98  24.00\n",
       "0   0.02731   0.00   7.070  0  0.4690  6.4210  78...                                              \n",
       "1   0.02729   0.00   7.070  0  0.4690  7.1850  61...                                              \n",
       "2   0.03237   0.00   2.180  0  0.4580  6.9980  45...                                              \n",
       "3   0.06905   0.00   2.180  0  0.4580  7.1470  54...                                              \n",
       "4   0.02985   0.00   2.180  0  0.4580  6.4300  58...                                              "
      ]
     },
     "execution_count": 4,
     "metadata": {},
     "output_type": "execute_result"
    }
   ],
   "source": [
    "#view a summary of our loaded data\n",
    "data.head()"
   ]
  },
  {
   "cell_type": "markdown",
   "id": "70d0cfdc",
   "metadata": {
    "papermill": {
     "duration": 0.034001,
     "end_time": "2021-11-05T21:45:24.563539",
     "exception": false,
     "start_time": "2021-11-05T21:45:24.529538",
     "status": "completed"
    },
    "tags": []
   },
   "source": [
    "The loaded data has no column names hence we shall need to assign it the appropriate column names based on information collected by the U.S Census Service concerning housing in the area of Boston Mass."
   ]
  },
  {
   "cell_type": "code",
   "execution_count": 5,
   "id": "c4c72b48",
   "metadata": {
    "execution": {
     "iopub.execute_input": "2021-11-05T21:45:24.635679Z",
     "iopub.status.busy": "2021-11-05T21:45:24.635008Z",
     "iopub.status.idle": "2021-11-05T21:45:24.644840Z",
     "shell.execute_reply": "2021-11-05T21:45:24.645379Z",
     "shell.execute_reply.started": "2021-11-02T19:11:34.934749Z"
    },
    "papermill": {
     "duration": 0.047822,
     "end_time": "2021-11-05T21:45:24.645557",
     "exception": false,
     "start_time": "2021-11-05T21:45:24.597735",
     "status": "completed"
    },
    "tags": []
   },
   "outputs": [],
   "source": [
    "#column names for house features\n",
    "column_names = ['CRIM', 'ZN', 'INDUS', 'CHAS', 'NOX', 'RM', 'AGE', 'DIS', 'RAD', 'TAX', 'PTRATIO', 'B', 'LSTAT', 'MEDV']\n",
    "#assigning columns names to our data\n",
    "data=pd.read_csv(\"../input/boston-house-prices/housing.csv\",header=None,delimiter=r\"\\s+\", names=column_names)"
   ]
  },
  {
   "cell_type": "markdown",
   "id": "eb9ab4e5",
   "metadata": {
    "papermill": {
     "duration": 0.033662,
     "end_time": "2021-11-05T21:45:24.714349",
     "exception": false,
     "start_time": "2021-11-05T21:45:24.680687",
     "status": "completed"
    },
    "tags": []
   },
   "source": [
    "## 4. Data Exploration\n",
    "* The objective here is to find out:\n",
    "* What questions are you trying to solve?\n",
    "* What kind of data do we have and how do we treat different types?\n",
    "* What's missing from the data and how do you deal with it?\n",
    "* Where are the outliers and why should you care about them?\n",
    "* How can you add,change or remove features to get more out of your data."
   ]
  },
  {
   "cell_type": "code",
   "execution_count": 6,
   "id": "162328d4",
   "metadata": {
    "execution": {
     "iopub.execute_input": "2021-11-05T21:45:24.785979Z",
     "iopub.status.busy": "2021-11-05T21:45:24.785359Z",
     "iopub.status.idle": "2021-11-05T21:45:24.790008Z",
     "shell.execute_reply": "2021-11-05T21:45:24.790622Z",
     "shell.execute_reply.started": "2021-11-02T19:13:15.209483Z"
    },
    "papermill": {
     "duration": 0.042359,
     "end_time": "2021-11-05T21:45:24.790799",
     "exception": false,
     "start_time": "2021-11-05T21:45:24.748440",
     "status": "completed"
    },
    "tags": []
   },
   "outputs": [
    {
     "data": {
      "text/plain": [
       "(506, 14)"
      ]
     },
     "execution_count": 6,
     "metadata": {},
     "output_type": "execute_result"
    }
   ],
   "source": [
    "#getting the shape our data in rows and columns\n",
    "data.shape"
   ]
  },
  {
   "cell_type": "code",
   "execution_count": 7,
   "id": "d431efe5",
   "metadata": {
    "execution": {
     "iopub.execute_input": "2021-11-05T21:45:24.881930Z",
     "iopub.status.busy": "2021-11-05T21:45:24.881126Z",
     "iopub.status.idle": "2021-11-05T21:45:24.884617Z",
     "shell.execute_reply": "2021-11-05T21:45:24.885075Z",
     "shell.execute_reply.started": "2021-11-02T19:13:25.948107Z"
    },
    "papermill": {
     "duration": 0.060124,
     "end_time": "2021-11-05T21:45:24.885266",
     "exception": false,
     "start_time": "2021-11-05T21:45:24.825142",
     "status": "completed"
    },
    "tags": []
   },
   "outputs": [
    {
     "data": {
      "text/html": [
       "<div>\n",
       "<style scoped>\n",
       "    .dataframe tbody tr th:only-of-type {\n",
       "        vertical-align: middle;\n",
       "    }\n",
       "\n",
       "    .dataframe tbody tr th {\n",
       "        vertical-align: top;\n",
       "    }\n",
       "\n",
       "    .dataframe thead th {\n",
       "        text-align: right;\n",
       "    }\n",
       "</style>\n",
       "<table border=\"1\" class=\"dataframe\">\n",
       "  <thead>\n",
       "    <tr style=\"text-align: right;\">\n",
       "      <th></th>\n",
       "      <th>CRIM</th>\n",
       "      <th>ZN</th>\n",
       "      <th>INDUS</th>\n",
       "      <th>CHAS</th>\n",
       "      <th>NOX</th>\n",
       "      <th>RM</th>\n",
       "      <th>AGE</th>\n",
       "      <th>DIS</th>\n",
       "      <th>RAD</th>\n",
       "      <th>TAX</th>\n",
       "      <th>PTRATIO</th>\n",
       "      <th>B</th>\n",
       "      <th>LSTAT</th>\n",
       "      <th>MEDV</th>\n",
       "    </tr>\n",
       "  </thead>\n",
       "  <tbody>\n",
       "    <tr>\n",
       "      <th>0</th>\n",
       "      <td>0.00632</td>\n",
       "      <td>18.0</td>\n",
       "      <td>2.31</td>\n",
       "      <td>0</td>\n",
       "      <td>0.538</td>\n",
       "      <td>6.575</td>\n",
       "      <td>65.2</td>\n",
       "      <td>4.0900</td>\n",
       "      <td>1</td>\n",
       "      <td>296.0</td>\n",
       "      <td>15.3</td>\n",
       "      <td>396.90</td>\n",
       "      <td>4.98</td>\n",
       "      <td>24.0</td>\n",
       "    </tr>\n",
       "    <tr>\n",
       "      <th>1</th>\n",
       "      <td>0.02731</td>\n",
       "      <td>0.0</td>\n",
       "      <td>7.07</td>\n",
       "      <td>0</td>\n",
       "      <td>0.469</td>\n",
       "      <td>6.421</td>\n",
       "      <td>78.9</td>\n",
       "      <td>4.9671</td>\n",
       "      <td>2</td>\n",
       "      <td>242.0</td>\n",
       "      <td>17.8</td>\n",
       "      <td>396.90</td>\n",
       "      <td>9.14</td>\n",
       "      <td>21.6</td>\n",
       "    </tr>\n",
       "    <tr>\n",
       "      <th>2</th>\n",
       "      <td>0.02729</td>\n",
       "      <td>0.0</td>\n",
       "      <td>7.07</td>\n",
       "      <td>0</td>\n",
       "      <td>0.469</td>\n",
       "      <td>7.185</td>\n",
       "      <td>61.1</td>\n",
       "      <td>4.9671</td>\n",
       "      <td>2</td>\n",
       "      <td>242.0</td>\n",
       "      <td>17.8</td>\n",
       "      <td>392.83</td>\n",
       "      <td>4.03</td>\n",
       "      <td>34.7</td>\n",
       "    </tr>\n",
       "    <tr>\n",
       "      <th>3</th>\n",
       "      <td>0.03237</td>\n",
       "      <td>0.0</td>\n",
       "      <td>2.18</td>\n",
       "      <td>0</td>\n",
       "      <td>0.458</td>\n",
       "      <td>6.998</td>\n",
       "      <td>45.8</td>\n",
       "      <td>6.0622</td>\n",
       "      <td>3</td>\n",
       "      <td>222.0</td>\n",
       "      <td>18.7</td>\n",
       "      <td>394.63</td>\n",
       "      <td>2.94</td>\n",
       "      <td>33.4</td>\n",
       "    </tr>\n",
       "    <tr>\n",
       "      <th>4</th>\n",
       "      <td>0.06905</td>\n",
       "      <td>0.0</td>\n",
       "      <td>2.18</td>\n",
       "      <td>0</td>\n",
       "      <td>0.458</td>\n",
       "      <td>7.147</td>\n",
       "      <td>54.2</td>\n",
       "      <td>6.0622</td>\n",
       "      <td>3</td>\n",
       "      <td>222.0</td>\n",
       "      <td>18.7</td>\n",
       "      <td>396.90</td>\n",
       "      <td>5.33</td>\n",
       "      <td>36.2</td>\n",
       "    </tr>\n",
       "  </tbody>\n",
       "</table>\n",
       "</div>"
      ],
      "text/plain": [
       "      CRIM    ZN  INDUS  CHAS    NOX     RM   AGE     DIS  RAD    TAX  \\\n",
       "0  0.00632  18.0   2.31     0  0.538  6.575  65.2  4.0900    1  296.0   \n",
       "1  0.02731   0.0   7.07     0  0.469  6.421  78.9  4.9671    2  242.0   \n",
       "2  0.02729   0.0   7.07     0  0.469  7.185  61.1  4.9671    2  242.0   \n",
       "3  0.03237   0.0   2.18     0  0.458  6.998  45.8  6.0622    3  222.0   \n",
       "4  0.06905   0.0   2.18     0  0.458  7.147  54.2  6.0622    3  222.0   \n",
       "\n",
       "   PTRATIO       B  LSTAT  MEDV  \n",
       "0     15.3  396.90   4.98  24.0  \n",
       "1     17.8  396.90   9.14  21.6  \n",
       "2     17.8  392.83   4.03  34.7  \n",
       "3     18.7  394.63   2.94  33.4  \n",
       "4     18.7  396.90   5.33  36.2  "
      ]
     },
     "execution_count": 7,
     "metadata": {},
     "output_type": "execute_result"
    }
   ],
   "source": [
    "#loading the first 5 rows from our data to get it's summary\n",
    "data.head()"
   ]
  },
  {
   "cell_type": "code",
   "execution_count": 8,
   "id": "18fde5b4",
   "metadata": {
    "execution": {
     "iopub.execute_input": "2021-11-05T21:45:24.960614Z",
     "iopub.status.busy": "2021-11-05T21:45:24.958655Z",
     "iopub.status.idle": "2021-11-05T21:45:24.978440Z",
     "shell.execute_reply": "2021-11-05T21:45:24.978934Z",
     "shell.execute_reply.started": "2021-11-02T19:13:37.895433Z"
    },
    "papermill": {
     "duration": 0.058489,
     "end_time": "2021-11-05T21:45:24.979121",
     "exception": false,
     "start_time": "2021-11-05T21:45:24.920632",
     "status": "completed"
    },
    "tags": []
   },
   "outputs": [
    {
     "data": {
      "text/html": [
       "<div>\n",
       "<style scoped>\n",
       "    .dataframe tbody tr th:only-of-type {\n",
       "        vertical-align: middle;\n",
       "    }\n",
       "\n",
       "    .dataframe tbody tr th {\n",
       "        vertical-align: top;\n",
       "    }\n",
       "\n",
       "    .dataframe thead th {\n",
       "        text-align: right;\n",
       "    }\n",
       "</style>\n",
       "<table border=\"1\" class=\"dataframe\">\n",
       "  <thead>\n",
       "    <tr style=\"text-align: right;\">\n",
       "      <th></th>\n",
       "      <th>CRIM</th>\n",
       "      <th>ZN</th>\n",
       "      <th>INDUS</th>\n",
       "      <th>CHAS</th>\n",
       "      <th>NOX</th>\n",
       "      <th>RM</th>\n",
       "      <th>AGE</th>\n",
       "      <th>DIS</th>\n",
       "      <th>RAD</th>\n",
       "      <th>TAX</th>\n",
       "      <th>PTRATIO</th>\n",
       "      <th>B</th>\n",
       "      <th>LSTAT</th>\n",
       "      <th>MEDV</th>\n",
       "    </tr>\n",
       "  </thead>\n",
       "  <tbody>\n",
       "    <tr>\n",
       "      <th>501</th>\n",
       "      <td>0.06263</td>\n",
       "      <td>0.0</td>\n",
       "      <td>11.93</td>\n",
       "      <td>0</td>\n",
       "      <td>0.573</td>\n",
       "      <td>6.593</td>\n",
       "      <td>69.1</td>\n",
       "      <td>2.4786</td>\n",
       "      <td>1</td>\n",
       "      <td>273.0</td>\n",
       "      <td>21.0</td>\n",
       "      <td>391.99</td>\n",
       "      <td>9.67</td>\n",
       "      <td>22.4</td>\n",
       "    </tr>\n",
       "    <tr>\n",
       "      <th>502</th>\n",
       "      <td>0.04527</td>\n",
       "      <td>0.0</td>\n",
       "      <td>11.93</td>\n",
       "      <td>0</td>\n",
       "      <td>0.573</td>\n",
       "      <td>6.120</td>\n",
       "      <td>76.7</td>\n",
       "      <td>2.2875</td>\n",
       "      <td>1</td>\n",
       "      <td>273.0</td>\n",
       "      <td>21.0</td>\n",
       "      <td>396.90</td>\n",
       "      <td>9.08</td>\n",
       "      <td>20.6</td>\n",
       "    </tr>\n",
       "    <tr>\n",
       "      <th>503</th>\n",
       "      <td>0.06076</td>\n",
       "      <td>0.0</td>\n",
       "      <td>11.93</td>\n",
       "      <td>0</td>\n",
       "      <td>0.573</td>\n",
       "      <td>6.976</td>\n",
       "      <td>91.0</td>\n",
       "      <td>2.1675</td>\n",
       "      <td>1</td>\n",
       "      <td>273.0</td>\n",
       "      <td>21.0</td>\n",
       "      <td>396.90</td>\n",
       "      <td>5.64</td>\n",
       "      <td>23.9</td>\n",
       "    </tr>\n",
       "    <tr>\n",
       "      <th>504</th>\n",
       "      <td>0.10959</td>\n",
       "      <td>0.0</td>\n",
       "      <td>11.93</td>\n",
       "      <td>0</td>\n",
       "      <td>0.573</td>\n",
       "      <td>6.794</td>\n",
       "      <td>89.3</td>\n",
       "      <td>2.3889</td>\n",
       "      <td>1</td>\n",
       "      <td>273.0</td>\n",
       "      <td>21.0</td>\n",
       "      <td>393.45</td>\n",
       "      <td>6.48</td>\n",
       "      <td>22.0</td>\n",
       "    </tr>\n",
       "    <tr>\n",
       "      <th>505</th>\n",
       "      <td>0.04741</td>\n",
       "      <td>0.0</td>\n",
       "      <td>11.93</td>\n",
       "      <td>0</td>\n",
       "      <td>0.573</td>\n",
       "      <td>6.030</td>\n",
       "      <td>80.8</td>\n",
       "      <td>2.5050</td>\n",
       "      <td>1</td>\n",
       "      <td>273.0</td>\n",
       "      <td>21.0</td>\n",
       "      <td>396.90</td>\n",
       "      <td>7.88</td>\n",
       "      <td>11.9</td>\n",
       "    </tr>\n",
       "  </tbody>\n",
       "</table>\n",
       "</div>"
      ],
      "text/plain": [
       "        CRIM   ZN  INDUS  CHAS    NOX     RM   AGE     DIS  RAD    TAX  \\\n",
       "501  0.06263  0.0  11.93     0  0.573  6.593  69.1  2.4786    1  273.0   \n",
       "502  0.04527  0.0  11.93     0  0.573  6.120  76.7  2.2875    1  273.0   \n",
       "503  0.06076  0.0  11.93     0  0.573  6.976  91.0  2.1675    1  273.0   \n",
       "504  0.10959  0.0  11.93     0  0.573  6.794  89.3  2.3889    1  273.0   \n",
       "505  0.04741  0.0  11.93     0  0.573  6.030  80.8  2.5050    1  273.0   \n",
       "\n",
       "     PTRATIO       B  LSTAT  MEDV  \n",
       "501     21.0  391.99   9.67  22.4  \n",
       "502     21.0  396.90   9.08  20.6  \n",
       "503     21.0  396.90   5.64  23.9  \n",
       "504     21.0  393.45   6.48  22.0  \n",
       "505     21.0  396.90   7.88  11.9  "
      ]
     },
     "execution_count": 8,
     "metadata": {},
     "output_type": "execute_result"
    }
   ],
   "source": [
    "#loading the last 5 rows from our data to get it's summary\n",
    "data.tail()"
   ]
  },
  {
   "cell_type": "code",
   "execution_count": 9,
   "id": "28dd9dca",
   "metadata": {
    "execution": {
     "iopub.execute_input": "2021-11-05T21:45:25.118785Z",
     "iopub.status.busy": "2021-11-05T21:45:25.115483Z",
     "iopub.status.idle": "2021-11-05T21:45:25.122805Z",
     "shell.execute_reply": "2021-11-05T21:45:25.122181Z",
     "shell.execute_reply.started": "2021-11-02T19:13:47.012817Z"
    },
    "papermill": {
     "duration": 0.047034,
     "end_time": "2021-11-05T21:45:25.122962",
     "exception": false,
     "start_time": "2021-11-05T21:45:25.075928",
     "status": "completed"
    },
    "tags": []
   },
   "outputs": [
    {
     "data": {
      "text/plain": [
       "CRIM       float64\n",
       "ZN         float64\n",
       "INDUS      float64\n",
       "CHAS         int64\n",
       "NOX        float64\n",
       "RM         float64\n",
       "AGE        float64\n",
       "DIS        float64\n",
       "RAD          int64\n",
       "TAX        float64\n",
       "PTRATIO    float64\n",
       "B          float64\n",
       "LSTAT      float64\n",
       "MEDV       float64\n",
       "dtype: object"
      ]
     },
     "execution_count": 9,
     "metadata": {},
     "output_type": "execute_result"
    }
   ],
   "source": [
    "#check the data types in our data\n",
    "data.dtypes"
   ]
  },
  {
   "cell_type": "code",
   "execution_count": 10,
   "id": "a4be4f53",
   "metadata": {
    "execution": {
     "iopub.execute_input": "2021-11-05T21:45:25.198826Z",
     "iopub.status.busy": "2021-11-05T21:45:25.198184Z",
     "iopub.status.idle": "2021-11-05T21:45:25.206887Z",
     "shell.execute_reply": "2021-11-05T21:45:25.207384Z",
     "shell.execute_reply.started": "2021-11-02T19:14:02.006254Z"
    },
    "papermill": {
     "duration": 0.048403,
     "end_time": "2021-11-05T21:45:25.207563",
     "exception": false,
     "start_time": "2021-11-05T21:45:25.159160",
     "status": "completed"
    },
    "tags": []
   },
   "outputs": [
    {
     "data": {
      "text/plain": [
       "CRIM       0\n",
       "ZN         0\n",
       "INDUS      0\n",
       "CHAS       0\n",
       "NOX        0\n",
       "RM         0\n",
       "AGE        0\n",
       "DIS        0\n",
       "RAD        0\n",
       "TAX        0\n",
       "PTRATIO    0\n",
       "B          0\n",
       "LSTAT      0\n",
       "MEDV       0\n",
       "dtype: int64"
      ]
     },
     "execution_count": 10,
     "metadata": {},
     "output_type": "execute_result"
    }
   ],
   "source": [
    "data.isna().sum()"
   ]
  },
  {
   "cell_type": "markdown",
   "id": "3cf83af7",
   "metadata": {
    "papermill": {
     "duration": 0.037038,
     "end_time": "2021-11-05T21:45:25.280962",
     "exception": false,
     "start_time": "2021-11-05T21:45:25.243924",
     "status": "completed"
    },
    "tags": []
   },
   "source": [
    "Our data does not have missing values and it's composed of floating and integer data types.\n",
    "In the event there are missing values one needs to replace mssing values (imputing) or remove them especially if comprise of a larger % in a column."
   ]
  },
  {
   "cell_type": "code",
   "execution_count": 11,
   "id": "112e4917",
   "metadata": {
    "execution": {
     "iopub.execute_input": "2021-11-05T21:45:25.358047Z",
     "iopub.status.busy": "2021-11-05T21:45:25.357385Z",
     "iopub.status.idle": "2021-11-05T21:45:25.415251Z",
     "shell.execute_reply": "2021-11-05T21:45:25.415723Z",
     "shell.execute_reply.started": "2021-11-02T19:14:30.289122Z"
    },
    "papermill": {
     "duration": 0.097553,
     "end_time": "2021-11-05T21:45:25.415904",
     "exception": false,
     "start_time": "2021-11-05T21:45:25.318351",
     "status": "completed"
    },
    "tags": []
   },
   "outputs": [
    {
     "data": {
      "text/html": [
       "<div>\n",
       "<style scoped>\n",
       "    .dataframe tbody tr th:only-of-type {\n",
       "        vertical-align: middle;\n",
       "    }\n",
       "\n",
       "    .dataframe tbody tr th {\n",
       "        vertical-align: top;\n",
       "    }\n",
       "\n",
       "    .dataframe thead th {\n",
       "        text-align: right;\n",
       "    }\n",
       "</style>\n",
       "<table border=\"1\" class=\"dataframe\">\n",
       "  <thead>\n",
       "    <tr style=\"text-align: right;\">\n",
       "      <th></th>\n",
       "      <th>CRIM</th>\n",
       "      <th>ZN</th>\n",
       "      <th>INDUS</th>\n",
       "      <th>CHAS</th>\n",
       "      <th>NOX</th>\n",
       "      <th>RM</th>\n",
       "      <th>AGE</th>\n",
       "      <th>DIS</th>\n",
       "      <th>RAD</th>\n",
       "      <th>TAX</th>\n",
       "      <th>PTRATIO</th>\n",
       "      <th>B</th>\n",
       "      <th>LSTAT</th>\n",
       "      <th>MEDV</th>\n",
       "    </tr>\n",
       "  </thead>\n",
       "  <tbody>\n",
       "    <tr>\n",
       "      <th>count</th>\n",
       "      <td>506.000000</td>\n",
       "      <td>506.000000</td>\n",
       "      <td>506.000000</td>\n",
       "      <td>506.000000</td>\n",
       "      <td>506.000000</td>\n",
       "      <td>506.000000</td>\n",
       "      <td>506.000000</td>\n",
       "      <td>506.000000</td>\n",
       "      <td>506.000000</td>\n",
       "      <td>506.000000</td>\n",
       "      <td>506.000000</td>\n",
       "      <td>506.000000</td>\n",
       "      <td>506.000000</td>\n",
       "      <td>506.000000</td>\n",
       "    </tr>\n",
       "    <tr>\n",
       "      <th>mean</th>\n",
       "      <td>3.613524</td>\n",
       "      <td>11.363636</td>\n",
       "      <td>11.136779</td>\n",
       "      <td>0.069170</td>\n",
       "      <td>0.554695</td>\n",
       "      <td>6.284634</td>\n",
       "      <td>68.574901</td>\n",
       "      <td>3.795043</td>\n",
       "      <td>9.549407</td>\n",
       "      <td>408.237154</td>\n",
       "      <td>18.455534</td>\n",
       "      <td>356.674032</td>\n",
       "      <td>12.653063</td>\n",
       "      <td>22.532806</td>\n",
       "    </tr>\n",
       "    <tr>\n",
       "      <th>std</th>\n",
       "      <td>8.601545</td>\n",
       "      <td>23.322453</td>\n",
       "      <td>6.860353</td>\n",
       "      <td>0.253994</td>\n",
       "      <td>0.115878</td>\n",
       "      <td>0.702617</td>\n",
       "      <td>28.148861</td>\n",
       "      <td>2.105710</td>\n",
       "      <td>8.707259</td>\n",
       "      <td>168.537116</td>\n",
       "      <td>2.164946</td>\n",
       "      <td>91.294864</td>\n",
       "      <td>7.141062</td>\n",
       "      <td>9.197104</td>\n",
       "    </tr>\n",
       "    <tr>\n",
       "      <th>min</th>\n",
       "      <td>0.006320</td>\n",
       "      <td>0.000000</td>\n",
       "      <td>0.460000</td>\n",
       "      <td>0.000000</td>\n",
       "      <td>0.385000</td>\n",
       "      <td>3.561000</td>\n",
       "      <td>2.900000</td>\n",
       "      <td>1.129600</td>\n",
       "      <td>1.000000</td>\n",
       "      <td>187.000000</td>\n",
       "      <td>12.600000</td>\n",
       "      <td>0.320000</td>\n",
       "      <td>1.730000</td>\n",
       "      <td>5.000000</td>\n",
       "    </tr>\n",
       "    <tr>\n",
       "      <th>25%</th>\n",
       "      <td>0.082045</td>\n",
       "      <td>0.000000</td>\n",
       "      <td>5.190000</td>\n",
       "      <td>0.000000</td>\n",
       "      <td>0.449000</td>\n",
       "      <td>5.885500</td>\n",
       "      <td>45.025000</td>\n",
       "      <td>2.100175</td>\n",
       "      <td>4.000000</td>\n",
       "      <td>279.000000</td>\n",
       "      <td>17.400000</td>\n",
       "      <td>375.377500</td>\n",
       "      <td>6.950000</td>\n",
       "      <td>17.025000</td>\n",
       "    </tr>\n",
       "    <tr>\n",
       "      <th>50%</th>\n",
       "      <td>0.256510</td>\n",
       "      <td>0.000000</td>\n",
       "      <td>9.690000</td>\n",
       "      <td>0.000000</td>\n",
       "      <td>0.538000</td>\n",
       "      <td>6.208500</td>\n",
       "      <td>77.500000</td>\n",
       "      <td>3.207450</td>\n",
       "      <td>5.000000</td>\n",
       "      <td>330.000000</td>\n",
       "      <td>19.050000</td>\n",
       "      <td>391.440000</td>\n",
       "      <td>11.360000</td>\n",
       "      <td>21.200000</td>\n",
       "    </tr>\n",
       "    <tr>\n",
       "      <th>75%</th>\n",
       "      <td>3.677083</td>\n",
       "      <td>12.500000</td>\n",
       "      <td>18.100000</td>\n",
       "      <td>0.000000</td>\n",
       "      <td>0.624000</td>\n",
       "      <td>6.623500</td>\n",
       "      <td>94.075000</td>\n",
       "      <td>5.188425</td>\n",
       "      <td>24.000000</td>\n",
       "      <td>666.000000</td>\n",
       "      <td>20.200000</td>\n",
       "      <td>396.225000</td>\n",
       "      <td>16.955000</td>\n",
       "      <td>25.000000</td>\n",
       "    </tr>\n",
       "    <tr>\n",
       "      <th>max</th>\n",
       "      <td>88.976200</td>\n",
       "      <td>100.000000</td>\n",
       "      <td>27.740000</td>\n",
       "      <td>1.000000</td>\n",
       "      <td>0.871000</td>\n",
       "      <td>8.780000</td>\n",
       "      <td>100.000000</td>\n",
       "      <td>12.126500</td>\n",
       "      <td>24.000000</td>\n",
       "      <td>711.000000</td>\n",
       "      <td>22.000000</td>\n",
       "      <td>396.900000</td>\n",
       "      <td>37.970000</td>\n",
       "      <td>50.000000</td>\n",
       "    </tr>\n",
       "  </tbody>\n",
       "</table>\n",
       "</div>"
      ],
      "text/plain": [
       "             CRIM          ZN       INDUS        CHAS         NOX          RM  \\\n",
       "count  506.000000  506.000000  506.000000  506.000000  506.000000  506.000000   \n",
       "mean     3.613524   11.363636   11.136779    0.069170    0.554695    6.284634   \n",
       "std      8.601545   23.322453    6.860353    0.253994    0.115878    0.702617   \n",
       "min      0.006320    0.000000    0.460000    0.000000    0.385000    3.561000   \n",
       "25%      0.082045    0.000000    5.190000    0.000000    0.449000    5.885500   \n",
       "50%      0.256510    0.000000    9.690000    0.000000    0.538000    6.208500   \n",
       "75%      3.677083   12.500000   18.100000    0.000000    0.624000    6.623500   \n",
       "max     88.976200  100.000000   27.740000    1.000000    0.871000    8.780000   \n",
       "\n",
       "              AGE         DIS         RAD         TAX     PTRATIO           B  \\\n",
       "count  506.000000  506.000000  506.000000  506.000000  506.000000  506.000000   \n",
       "mean    68.574901    3.795043    9.549407  408.237154   18.455534  356.674032   \n",
       "std     28.148861    2.105710    8.707259  168.537116    2.164946   91.294864   \n",
       "min      2.900000    1.129600    1.000000  187.000000   12.600000    0.320000   \n",
       "25%     45.025000    2.100175    4.000000  279.000000   17.400000  375.377500   \n",
       "50%     77.500000    3.207450    5.000000  330.000000   19.050000  391.440000   \n",
       "75%     94.075000    5.188425   24.000000  666.000000   20.200000  396.225000   \n",
       "max    100.000000   12.126500   24.000000  711.000000   22.000000  396.900000   \n",
       "\n",
       "            LSTAT        MEDV  \n",
       "count  506.000000  506.000000  \n",
       "mean    12.653063   22.532806  \n",
       "std      7.141062    9.197104  \n",
       "min      1.730000    5.000000  \n",
       "25%      6.950000   17.025000  \n",
       "50%     11.360000   21.200000  \n",
       "75%     16.955000   25.000000  \n",
       "max     37.970000   50.000000  "
      ]
     },
     "execution_count": 11,
     "metadata": {},
     "output_type": "execute_result"
    }
   ],
   "source": [
    "#get the summary description of our data\n",
    "data.describe()"
   ]
  },
  {
   "cell_type": "markdown",
   "id": "d531e090",
   "metadata": {
    "papermill": {
     "duration": 0.036933,
     "end_time": "2021-11-05T21:45:25.490074",
     "exception": false,
     "start_time": "2021-11-05T21:45:25.453141",
     "status": "completed"
    },
    "tags": []
   },
   "source": [
    "#### target variable\n",
    "Our target variable that we want to predict is the house price with a column label  \"MEDV\" which is the Median value of owner-occupied homes in $1000's"
   ]
  },
  {
   "cell_type": "markdown",
   "id": "34821ada",
   "metadata": {
    "papermill": {
     "duration": 0.036961,
     "end_time": "2021-11-05T21:45:25.564234",
     "exception": false,
     "start_time": "2021-11-05T21:45:25.527273",
     "status": "completed"
    },
    "tags": []
   },
   "source": [
    "## 5. Data Visualization\n",
    "\n",
    "#### 5.1(MEDV)House price distribution"
   ]
  },
  {
   "cell_type": "code",
   "execution_count": 12,
   "id": "ff7673f0",
   "metadata": {
    "execution": {
     "iopub.execute_input": "2021-11-05T21:45:25.642141Z",
     "iopub.status.busy": "2021-11-05T21:45:25.641481Z",
     "iopub.status.idle": "2021-11-05T21:45:25.934308Z",
     "shell.execute_reply": "2021-11-05T21:45:25.933713Z",
     "shell.execute_reply.started": "2021-11-02T19:15:58.314392Z"
    },
    "papermill": {
     "duration": 0.332945,
     "end_time": "2021-11-05T21:45:25.934458",
     "exception": false,
     "start_time": "2021-11-05T21:45:25.601513",
     "status": "completed"
    },
    "tags": []
   },
   "outputs": [
    {
     "data": {
      "text/plain": [
       "<AxesSubplot:>"
      ]
     },
     "execution_count": 12,
     "metadata": {},
     "output_type": "execute_result"
    },
    {
     "data": {
      "image/png": "[encoded data removed]",
      "text/plain": [
       "<Figure size 432x288 with 1 Axes>"
      ]
     },
     "metadata": {
      "needs_background": "light"
     },
     "output_type": "display_data"
    }
   ],
   "source": [
    "data.MEDV.hist()"
   ]
  },
  {
   "cell_type": "code",
   "execution_count": 13,
   "id": "1cb0a4aa",
   "metadata": {
    "execution": {
     "iopub.execute_input": "2021-11-05T21:45:26.016326Z",
     "iopub.status.busy": "2021-11-05T21:45:26.015609Z",
     "iopub.status.idle": "2021-11-05T21:45:26.309239Z",
     "shell.execute_reply": "2021-11-05T21:45:26.308589Z",
     "shell.execute_reply.started": "2021-11-02T19:16:59.805605Z"
    },
    "papermill": {
     "duration": 0.336755,
     "end_time": "2021-11-05T21:45:26.309380",
     "exception": false,
     "start_time": "2021-11-05T21:45:25.972625",
     "status": "completed"
    },
    "tags": []
   },
   "outputs": [
    {
     "name": "stderr",
     "output_type": "stream",
     "text": [
      "/opt/conda/lib/python3.7/site-packages/seaborn/distributions.py:2619: FutureWarning: `distplot` is a deprecated function and will be removed in a future version. Please adapt your code to use either `displot` (a figure-level function with similar flexibility) or `histplot` (an axes-level function for histograms).\n",
      "  warnings.warn(msg, FutureWarning)\n"
     ]
    },
    {
     "data": {
      "image/png": "[encoded data removed]",
      "text/plain": [
       "<Figure size 432x288 with 1 Axes>"
      ]
     },
     "metadata": {
      "needs_background": "light"
     },
     "output_type": "display_data"
    }
   ],
   "source": [
    "sns.distplot(data['MEDV'], bins=30)\n",
    "plt.show()"
   ]
  },
  {
   "cell_type": "markdown",
   "id": "cf4fd526",
   "metadata": {
    "papermill": {
     "duration": 0.03917,
     "end_time": "2021-11-05T21:45:26.388040",
     "exception": false,
     "start_time": "2021-11-05T21:45:26.348870",
     "status": "completed"
    },
    "tags": []
   },
   "source": [
    "* On average the distribution of the house prices are between 10 and 50 dollars.\n",
    "* There those on the extreme (outliers) house prices at dollars over 50."
   ]
  },
  {
   "cell_type": "code",
   "execution_count": 14,
   "id": "9f49218c",
   "metadata": {
    "execution": {
     "iopub.execute_input": "2021-11-05T21:45:26.474131Z",
     "iopub.status.busy": "2021-11-05T21:45:26.473477Z",
     "iopub.status.idle": "2021-11-05T21:45:26.750757Z",
     "shell.execute_reply": "2021-11-05T21:45:26.750176Z",
     "shell.execute_reply.started": "2021-11-02T19:18:47.659131Z"
    },
    "papermill": {
     "duration": 0.32338,
     "end_time": "2021-11-05T21:45:26.750917",
     "exception": false,
     "start_time": "2021-11-05T21:45:26.427537",
     "status": "completed"
    },
    "tags": []
   },
   "outputs": [
    {
     "name": "stderr",
     "output_type": "stream",
     "text": [
      "/opt/conda/lib/python3.7/site-packages/seaborn/distributions.py:2619: FutureWarning: `distplot` is a deprecated function and will be removed in a future version. Please adapt your code to use either `displot` (a figure-level function with similar flexibility) or `histplot` (an axes-level function for histograms).\n",
      "  warnings.warn(msg, FutureWarning)\n"
     ]
    },
    {
     "data": {
      "image/png": "[encoded data removed]",
      "text/plain": [
       "<Figure size 432x288 with 1 Axes>"
      ]
     },
     "metadata": {
      "needs_background": "light"
     },
     "output_type": "display_data"
    }
   ],
   "source": [
    "#Let's drop outliers(housing prices over or equal to 50) from our data\n",
    "data=data[~(data[\"MEDV\"]>=50)]\n",
    "sns.distplot(data['MEDV'], bins=30)\n",
    "plt.show()"
   ]
  },
  {
   "cell_type": "markdown",
   "id": "820e9bdf",
   "metadata": {
    "papermill": {
     "duration": 0.041842,
     "end_time": "2021-11-05T21:45:26.834600",
     "exception": false,
     "start_time": "2021-11-05T21:45:26.792758",
     "status": "completed"
    },
    "tags": []
   },
   "source": [
    "#### 5.2 House Price vs CRIME Rate by town"
   ]
  },
  {
   "cell_type": "code",
   "execution_count": 15,
   "id": "6c15fd47",
   "metadata": {
    "execution": {
     "iopub.execute_input": "2021-11-05T21:45:26.921259Z",
     "iopub.status.busy": "2021-11-05T21:45:26.920601Z",
     "iopub.status.idle": "2021-11-05T21:45:27.167665Z",
     "shell.execute_reply": "2021-11-05T21:45:27.166645Z",
     "shell.execute_reply.started": "2021-11-02T19:20:53.386385Z"
    },
    "papermill": {
     "duration": 0.292455,
     "end_time": "2021-11-05T21:45:27.167827",
     "exception": false,
     "start_time": "2021-11-05T21:45:26.875372",
     "status": "completed"
    },
    "tags": []
   },
   "outputs": [
    {
     "data": {
      "image/png": "[encoded data removed]",
      "text/plain": [
       "<Figure size 720x360 with 1 Axes>"
      ]
     },
     "metadata": {
      "needs_background": "light"
     },
     "output_type": "display_data"
    }
   ],
   "source": [
    "plt.figure(figsize=(10, 5))\n",
    "\n",
    "plt.scatter(data.CRIM,data.MEDV)\n",
    "plt.xlabel(\"Per capita crime rate by town\")\n",
    "plt.ylabel(\"Housing Price\")\n",
    "plt.title(\"House price vs per capita crime rate by town\");"
   ]
  },
  {
   "cell_type": "markdown",
   "id": "f240c1e4",
   "metadata": {
    "execution": {
     "iopub.execute_input": "2021-11-02T19:21:09.534727Z",
     "iopub.status.busy": "2021-11-02T19:21:09.534417Z",
     "iopub.status.idle": "2021-11-02T19:21:09.54091Z",
     "shell.execute_reply": "2021-11-02T19:21:09.539565Z",
     "shell.execute_reply.started": "2021-11-02T19:21:09.534694Z"
    },
    "papermill": {
     "duration": 0.041429,
     "end_time": "2021-11-05T21:45:27.251860",
     "exception": false,
     "start_time": "2021-11-05T21:45:27.210431",
     "status": "completed"
    },
    "tags": []
   },
   "source": [
    "From the plot above shows the lesser the per capita crime rate by town the more the house prices fall betwween $12-40\"safe neighbour hood the expensive the house\".\n",
    "Which implies the higher the crime rate by town the cheaper houses to find."
   ]
  },
  {
   "cell_type": "markdown",
   "id": "a796a9dd",
   "metadata": {
    "papermill": {
     "duration": 0.041151,
     "end_time": "2021-11-05T21:45:27.334708",
     "exception": false,
     "start_time": "2021-11-05T21:45:27.293557",
     "status": "completed"
    },
    "tags": []
   },
   "source": [
    "#### 5.3 Housing prices vs average number of rooms per dwelling"
   ]
  },
  {
   "cell_type": "code",
   "execution_count": 16,
   "id": "0a7aec39",
   "metadata": {
    "execution": {
     "iopub.execute_input": "2021-11-05T21:45:27.421514Z",
     "iopub.status.busy": "2021-11-05T21:45:27.420826Z",
     "iopub.status.idle": "2021-11-05T21:45:27.656742Z",
     "shell.execute_reply": "2021-11-05T21:45:27.656015Z",
     "shell.execute_reply.started": "2021-11-02T19:24:35.914352Z"
    },
    "papermill": {
     "duration": 0.280424,
     "end_time": "2021-11-05T21:45:27.656887",
     "exception": false,
     "start_time": "2021-11-05T21:45:27.376463",
     "status": "completed"
    },
    "tags": []
   },
   "outputs": [
    {
     "data": {
      "image/png": "[encoded data removed]",
      "text/plain": [
       "<Figure size 720x360 with 1 Axes>"
      ]
     },
     "metadata": {
      "needs_background": "light"
     },
     "output_type": "display_data"
    }
   ],
   "source": [
    "plt.figure(figsize=(10,5))\n",
    "\n",
    "plt.scatter(data.RM,data.MEDV)\n",
    "plt.xlabel(\"average number of rooms per dwelling\")\n",
    "plt.ylabel(\"Housing Price\")\n",
    "plt.title(\"House prices vs Number of rooms\");"
   ]
  },
  {
   "cell_type": "markdown",
   "id": "0ae5d4f1",
   "metadata": {
    "papermill": {
     "duration": 0.042474,
     "end_time": "2021-11-05T21:45:27.742477",
     "exception": false,
     "start_time": "2021-11-05T21:45:27.700003",
     "status": "completed"
    },
    "tags": []
   },
   "source": [
    "From our dataset most house prices at between 20-30,have an average of 6-7 rooms with some few(outliers) exceptional ones at 50$.\n",
    "\n",
    "The more the number of rooms above 7 in a house the higher the price ranging between above $30 -50."
   ]
  },
  {
   "cell_type": "markdown",
   "id": "ba26b02b",
   "metadata": {
    "papermill": {
     "duration": 0.042316,
     "end_time": "2021-11-05T21:45:27.827728",
     "exception": false,
     "start_time": "2021-11-05T21:45:27.785412",
     "status": "completed"
    },
    "tags": []
   },
   "source": [
    "#### 5.4 Housing Prices vs 5 Boston employment centres"
   ]
  },
  {
   "cell_type": "code",
   "execution_count": 17,
   "id": "3454e2d6",
   "metadata": {
    "execution": {
     "iopub.execute_input": "2021-11-05T21:45:27.916752Z",
     "iopub.status.busy": "2021-11-05T21:45:27.915984Z",
     "iopub.status.idle": "2021-11-05T21:45:28.161091Z",
     "shell.execute_reply": "2021-11-05T21:45:28.161644Z",
     "shell.execute_reply.started": "2021-11-02T19:26:11.553591Z"
    },
    "papermill": {
     "duration": 0.291163,
     "end_time": "2021-11-05T21:45:28.161820",
     "exception": false,
     "start_time": "2021-11-05T21:45:27.870657",
     "status": "completed"
    },
    "tags": []
   },
   "outputs": [
    {
     "data": {
      "image/png": "[encoded data removed]",
      "text/plain": [
       "<Figure size 720x360 with 1 Axes>"
      ]
     },
     "metadata": {
      "needs_background": "light"
     },
     "output_type": "display_data"
    }
   ],
   "source": [
    "plt.figure(figsize=(10,5))\n",
    "plt.scatter(data.DIS,data.MEDV)\n",
    "plt.xlabel(\"weighted distances to five Boston employment centres\")\n",
    "plt.ylabel(\"House Prices\")\n",
    "plt.title(\"House prices vs five Boston employment centres\");"
   ]
  },
  {
   "cell_type": "markdown",
   "id": "b2cf786d",
   "metadata": {
    "papermill": {
     "duration": 0.043409,
     "end_time": "2021-11-05T21:45:28.249512",
     "exception": false,
     "start_time": "2021-11-05T21:45:28.206103",
     "status": "completed"
    },
    "tags": []
   },
   "source": [
    "The house prices around $5-30 fall between 1-6 weighted distances to the 5 Boston employment centers.\n",
    "\n",
    "The nearer the house to the employment center the likely the price to be cheaper."
   ]
  },
  {
   "cell_type": "markdown",
   "id": "f0eab4a2",
   "metadata": {
    "papermill": {
     "duration": 0.043762,
     "end_time": "2021-11-05T21:45:28.338387",
     "exception": false,
     "start_time": "2021-11-05T21:45:28.294625",
     "status": "completed"
    },
    "tags": []
   },
   "source": [
    "#### 5.5  Housing pricing vs to Age of the house"
   ]
  },
  {
   "cell_type": "code",
   "execution_count": 18,
   "id": "2505c822",
   "metadata": {
    "execution": {
     "iopub.execute_input": "2021-11-05T21:45:28.429451Z",
     "iopub.status.busy": "2021-11-05T21:45:28.428764Z",
     "iopub.status.idle": "2021-11-05T21:45:28.667109Z",
     "shell.execute_reply": "2021-11-05T21:45:28.666600Z",
     "shell.execute_reply.started": "2021-11-02T19:27:53.630106Z"
    },
    "papermill": {
     "duration": 0.284808,
     "end_time": "2021-11-05T21:45:28.667268",
     "exception": false,
     "start_time": "2021-11-05T21:45:28.382460",
     "status": "completed"
    },
    "tags": []
   },
   "outputs": [
    {
     "data": {
      "image/png": "[encoded data removed]",
      "text/plain": [
       "<Figure size 720x360 with 1 Axes>"
      ]
     },
     "metadata": {
      "needs_background": "light"
     },
     "output_type": "display_data"
    }
   ],
   "source": [
    "plt.figure(figsize=(10,5))\n",
    "plt.scatter(data.AGE,data.MEDV)\n",
    "plt.xlabel(\"proportion of owner-occupied units built prior to 1940\")\n",
    "plt.ylabel(\"House prices\")\n",
    "plt.title(\"House Price vs Age of the house\");"
   ]
  },
  {
   "cell_type": "markdown",
   "id": "31454ba4",
   "metadata": {
    "papermill": {
     "duration": 0.044913,
     "end_time": "2021-11-05T21:45:28.757606",
     "exception": false,
     "start_time": "2021-11-05T21:45:28.712693",
     "status": "completed"
    },
    "tags": []
   },
   "source": [
    "The older the Age proportion of owner-occupied units built prior to 1940 the cheaper it is price ranging between $10-20.\n",
    "\n",
    "Most of the proportion of owner-occupied units built prior to 1940 range between 80-100."
   ]
  },
  {
   "cell_type": "markdown",
   "id": "a314d433",
   "metadata": {
    "papermill": {
     "duration": 0.04478,
     "end_time": "2021-11-05T21:45:28.847658",
     "exception": false,
     "start_time": "2021-11-05T21:45:28.802878",
     "status": "completed"
    },
    "tags": []
   },
   "source": [
    "#### 5.6 House prices vs pupil-teacher ratio by town."
   ]
  },
  {
   "cell_type": "code",
   "execution_count": 19,
   "id": "dbe1dbf5",
   "metadata": {
    "execution": {
     "iopub.execute_input": "2021-11-05T21:45:28.941929Z",
     "iopub.status.busy": "2021-11-05T21:45:28.941233Z",
     "iopub.status.idle": "2021-11-05T21:45:29.174276Z",
     "shell.execute_reply": "2021-11-05T21:45:29.173716Z",
     "shell.execute_reply.started": "2021-11-02T19:28:43.202424Z"
    },
    "papermill": {
     "duration": 0.281582,
     "end_time": "2021-11-05T21:45:29.174426",
     "exception": false,
     "start_time": "2021-11-05T21:45:28.892844",
     "status": "completed"
    },
    "tags": []
   },
   "outputs": [
    {
     "data": {
      "image/png": "[encoded data removed]",
      "text/plain": [
       "<Figure size 720x360 with 1 Axes>"
      ]
     },
     "metadata": {
      "needs_background": "light"
     },
     "output_type": "display_data"
    }
   ],
   "source": [
    "plt.figure(figsize=(10,5))\n",
    "plt.scatter(data.PTRATIO ,data.MEDV)\n",
    "plt.xlabel(\"pupil-teacher ratio by town\")\n",
    "plt.ylabel(\"House prices\")\n",
    "plt.title(\"House prices vs pupil-teacher ratio by town.\");"
   ]
  },
  {
   "cell_type": "markdown",
   "id": "697c21b0",
   "metadata": {
    "papermill": {
     "duration": 0.045857,
     "end_time": "2021-11-05T21:45:29.266546",
     "exception": false,
     "start_time": "2021-11-05T21:45:29.220689",
     "status": "completed"
    },
    "tags": []
   },
   "source": [
    "Houses where the pupil-teacher ration by town is high the majority of the house prices range between $5-25.\n",
    "\n",
    "These can be understood as the few pupils to teacher ration the higher the prices of houses in that town (A narrative of public vs private schools) on impact of nearby houses."
   ]
  },
  {
   "cell_type": "markdown",
   "id": "aa707f86",
   "metadata": {
    "papermill": {
     "duration": 0.046342,
     "end_time": "2021-11-05T21:45:29.359303",
     "exception": false,
     "start_time": "2021-11-05T21:45:29.312961",
     "status": "completed"
    },
    "tags": []
   },
   "source": [
    "#### 5.7 Correlation Matrix"
   ]
  },
  {
   "cell_type": "code",
   "execution_count": 20,
   "id": "b70d0ede",
   "metadata": {
    "execution": {
     "iopub.execute_input": "2021-11-05T21:45:29.455350Z",
     "iopub.status.busy": "2021-11-05T21:45:29.454618Z",
     "iopub.status.idle": "2021-11-05T21:45:30.824368Z",
     "shell.execute_reply": "2021-11-05T21:45:30.824894Z",
     "shell.execute_reply.started": "2021-11-02T19:29:26.927451Z"
    },
    "papermill": {
     "duration": 1.419565,
     "end_time": "2021-11-05T21:45:30.825067",
     "exception": false,
     "start_time": "2021-11-05T21:45:29.405502",
     "status": "completed"
    },
    "tags": []
   },
   "outputs": [
    {
     "data": {
      "image/png": "[encoded data removed]",
      "text/plain": [
       "<Figure size 720x432 with 2 Axes>"
      ]
     },
     "metadata": {
      "needs_background": "light"
     },
     "output_type": "display_data"
    }
   ],
   "source": [
    "corr_matrix=data.corr()\n",
    "fig,ax=plt.subplots(figsize=(10,6))\n",
    "ax=sns.heatmap(corr_matrix,\n",
    "              annot=True,\n",
    "              linewidth=0.5,\n",
    "              fmt=\".2f\",\n",
    "              cmap=\"viridis\");\n"
   ]
  },
  {
   "cell_type": "markdown",
   "id": "2d2b1fcb",
   "metadata": {
    "papermill": {
     "duration": 0.048907,
     "end_time": "2021-11-05T21:45:30.923845",
     "exception": false,
     "start_time": "2021-11-05T21:45:30.874938",
     "status": "completed"
    },
    "tags": []
   },
   "source": [
    "There is a strong positive correlation between the house price and the average number of rooms per dwelling at 0.69 followed by the correlation between the house price and ZN(proportion of residential land zoned for lots over 25,000 sq.ft.) at 0.4 ,DIS(weighted distances to five Boston employment centres) at 0.37 and B( - 1000(Bk - 0.63)^2 where Bk is the proportion of blacks by town) at 0.36 in correlation to house price.\n",
    "\n",
    "The house feature with the strong negative correlation is LSTAT (% lower status of the population) at -0.76 ."
   ]
  },
  {
   "cell_type": "markdown",
   "id": "9e493417",
   "metadata": {
    "papermill": {
     "duration": 0.048578,
     "end_time": "2021-11-05T21:45:31.021559",
     "exception": false,
     "start_time": "2021-11-05T21:45:30.972981",
     "status": "completed"
    },
    "tags": []
   },
   "source": [
    "## 6. Model Builing\n",
    "\n",
    "Our data being in continous  (not categorical) in nature (house prices) we shall use regression models in predicting the house prices.\n",
    "\n",
    "First we  define our data into feature variables and target variable then later split them into training and testing data then train our models on the training data(seen) before evaluating them on the testing data(unseen)."
   ]
  },
  {
   "cell_type": "code",
   "execution_count": 21,
   "id": "2d5e9771",
   "metadata": {
    "execution": {
     "iopub.execute_input": "2021-11-05T21:45:31.126952Z",
     "iopub.status.busy": "2021-11-05T21:45:31.123946Z",
     "iopub.status.idle": "2021-11-05T21:45:31.128982Z",
     "shell.execute_reply": "2021-11-05T21:45:31.129485Z",
     "shell.execute_reply.started": "2021-11-02T19:31:48.398231Z"
    },
    "papermill": {
     "duration": 0.058266,
     "end_time": "2021-11-05T21:45:31.129662",
     "exception": false,
     "start_time": "2021-11-05T21:45:31.071396",
     "status": "completed"
    },
    "tags": []
   },
   "outputs": [],
   "source": [
    "#Difine our feature varibles and target variable\n",
    "X=data.drop(\"MEDV\",axis=1)\n",
    "y=data[\"MEDV\"]"
   ]
  },
  {
   "cell_type": "code",
   "execution_count": 22,
   "id": "52117739",
   "metadata": {
    "execution": {
     "iopub.execute_input": "2021-11-05T21:45:31.236587Z",
     "iopub.status.busy": "2021-11-05T21:45:31.235544Z",
     "iopub.status.idle": "2021-11-05T21:45:31.237830Z",
     "shell.execute_reply": "2021-11-05T21:45:31.238460Z",
     "shell.execute_reply.started": "2021-11-02T19:48:28.784424Z"
    },
    "papermill": {
     "duration": 0.059756,
     "end_time": "2021-11-05T21:45:31.238633",
     "exception": false,
     "start_time": "2021-11-05T21:45:31.178877",
     "status": "completed"
    },
    "tags": []
   },
   "outputs": [],
   "source": [
    "#splitting our data into training and test\n",
    "np.random.seed(42)\n",
    "X_train,X_test,y_train,y_test=train_test_split(X,y,test_size=0.2)"
   ]
  },
  {
   "cell_type": "markdown",
   "id": "5fa96c71",
   "metadata": {
    "papermill": {
     "duration": 0.048949,
     "end_time": "2021-11-05T21:45:31.336584",
     "exception": false,
     "start_time": "2021-11-05T21:45:31.287635",
     "status": "completed"
    },
    "tags": []
   },
   "source": [
    "####  6.1 Linear Regression"
   ]
  },
  {
   "cell_type": "code",
   "execution_count": 23,
   "id": "0191cc0d",
   "metadata": {
    "execution": {
     "iopub.execute_input": "2021-11-05T21:45:31.441528Z",
     "iopub.status.busy": "2021-11-05T21:45:31.437735Z",
     "iopub.status.idle": "2021-11-05T21:45:31.457573Z",
     "shell.execute_reply": "2021-11-05T21:45:31.458191Z",
     "shell.execute_reply.started": "2021-11-02T19:33:10.293985Z"
    },
    "papermill": {
     "duration": 0.072462,
     "end_time": "2021-11-05T21:45:31.458390",
     "exception": false,
     "start_time": "2021-11-05T21:45:31.385928",
     "status": "completed"
    },
    "tags": []
   },
   "outputs": [
    {
     "name": "stdout",
     "output_type": "stream",
     "text": [
      "Linear Regresssion\n",
      "Mean Squared Error : 12.055902866387553\n",
      "mean Absolute Error : 2.6415049059591444\n",
      "R2 Score : 0.7640047258028569\n"
     ]
    }
   ],
   "source": [
    "#instantiate our model\n",
    "lin_reg=LinearRegression()\n",
    "\n",
    "#fit training data into our model\n",
    "lin_reg.fit(X_train,y_train)\n",
    "\n",
    "#use our model to predict with test data\n",
    "l_preds=lin_reg.predict(X_test)\n",
    "\n",
    "#evaluate our model's performance using mean squared error\n",
    "mse=mean_squared_error(y_test,l_preds)\n",
    "\n",
    "#evaluate our model's performance using mean absolute error\n",
    "mae=mean_absolute_error(y_test,l_preds)\n",
    "\n",
    "#evaluate our model's performance using r2_score\n",
    "R2_score=r2_score(y_test,l_preds)\n",
    "\n",
    "print(\"Linear Regresssion\")\n",
    "print(\"Mean Squared Error :\",mse)\n",
    "print(\"mean Absolute Error :\",mae)\n",
    "print(\"R2 Score :\",R2_score)"
   ]
  },
  {
   "cell_type": "markdown",
   "id": "e49cdcf9",
   "metadata": {
    "papermill": {
     "duration": 0.069769,
     "end_time": "2021-11-05T21:45:31.595388",
     "exception": false,
     "start_time": "2021-11-05T21:45:31.525619",
     "status": "completed"
    },
    "tags": []
   },
   "source": [
    "#### 6.2 Decision Tree Regression"
   ]
  },
  {
   "cell_type": "code",
   "execution_count": 24,
   "id": "ee1dddff",
   "metadata": {
    "execution": {
     "iopub.execute_input": "2021-11-05T21:45:31.708099Z",
     "iopub.status.busy": "2021-11-05T21:45:31.706986Z",
     "iopub.status.idle": "2021-11-05T21:45:31.723550Z",
     "shell.execute_reply": "2021-11-05T21:45:31.724322Z",
     "shell.execute_reply.started": "2021-11-02T19:48:41.363347Z"
    },
    "papermill": {
     "duration": 0.073649,
     "end_time": "2021-11-05T21:45:31.724589",
     "exception": false,
     "start_time": "2021-11-05T21:45:31.650940",
     "status": "completed"
    },
    "tags": []
   },
   "outputs": [
    {
     "name": "stdout",
     "output_type": "stream",
     "text": [
      "Decision Tree Regression\n",
      "Mean Squared Error : 10.30408163265306\n",
      "mean Absolute Error : 2.4306122448979592\n",
      "R2 Score : 0.7982967682140636\n"
     ]
    }
   ],
   "source": [
    "#instantiate our model\n",
    "dt_reg=DecisionTreeRegressor()\n",
    "\n",
    "#fit training data to our model\n",
    "dt_reg.fit(X_train,y_train)\n",
    "\n",
    "#using our model to predict on test data\n",
    "dt_preds=dt_reg.predict(X_test)\n",
    "\n",
    "#evaluating our third model's performance in housing price prediction\n",
    "\n",
    "#evaluate our model's performance using mean squared error\n",
    "mse=mean_squared_error(y_test,dt_preds)\n",
    "\n",
    "#evaluate our model's performance using mean absolute error\n",
    "mae=mean_absolute_error(y_test,dt_preds)\n",
    "\n",
    "#evaluate our model's performance using r2_score\n",
    "R2_score=r2_score(y_test,dt_preds)\n",
    "\n",
    "print(\"Decision Tree Regression\")\n",
    "print(\"Mean Squared Error :\",mse)\n",
    "print(\"mean Absolute Error :\",mae)\n",
    "print(\"R2 Score :\",R2_score)"
   ]
  },
  {
   "cell_type": "markdown",
   "id": "1daa6cf0",
   "metadata": {
    "papermill": {
     "duration": 0.056428,
     "end_time": "2021-11-05T21:45:31.849794",
     "exception": false,
     "start_time": "2021-11-05T21:45:31.793366",
     "status": "completed"
    },
    "tags": []
   },
   "source": [
    "#### 6.3 Random Forest Regression"
   ]
  },
  {
   "cell_type": "code",
   "execution_count": 25,
   "id": "5a7fdc32",
   "metadata": {
    "execution": {
     "iopub.execute_input": "2021-11-05T21:45:31.956344Z",
     "iopub.status.busy": "2021-11-05T21:45:31.955351Z",
     "iopub.status.idle": "2021-11-05T21:45:32.332367Z",
     "shell.execute_reply": "2021-11-05T21:45:32.331847Z",
     "shell.execute_reply.started": "2021-11-02T19:35:02.745508Z"
    },
    "papermill": {
     "duration": 0.431119,
     "end_time": "2021-11-05T21:45:32.332510",
     "exception": false,
     "start_time": "2021-11-05T21:45:31.901391",
     "status": "completed"
    },
    "tags": []
   },
   "outputs": [
    {
     "name": "stdout",
     "output_type": "stream",
     "text": [
      "Random Forest Regression\n",
      "Mean Squared Error : 6.099560918367335\n",
      "mean Absolute Error : 1.8778367346938754\n",
      "R2 Score : 0.8806006014343742\n"
     ]
    }
   ],
   "source": [
    "#instantiate our model\n",
    "r_forest=RandomForestRegressor()\n",
    "\n",
    "#fitting our training data into our model\n",
    "r_forest.fit(X_train,y_train)\n",
    "\n",
    "#predict on  test data using our model\n",
    "r_preds=r_forest.predict(X_test)\n",
    "\n",
    "#evaluate our second model performance\n",
    "\n",
    "#evaluate our model's performance using mean squared error\n",
    "mse=mean_squared_error(y_test,r_preds)\n",
    "\n",
    "#evaluate our model's performance using mean absolute error\n",
    "mae=mean_absolute_error(y_test,r_preds)\n",
    "\n",
    "#evaluate our model's performance using r2_score\n",
    "R2_score=r2_score(y_test,r_preds)\n",
    "\n",
    "print(\"Random Forest Regression\")\n",
    "print(\"Mean Squared Error :\",mse)\n",
    "print(\"mean Absolute Error :\",mae)\n",
    "print(\"R2 Score :\",R2_score)"
   ]
  },
  {
   "cell_type": "markdown",
   "id": "dfc37e9d",
   "metadata": {
    "papermill": {
     "duration": 0.049821,
     "end_time": "2021-11-05T21:45:32.432973",
     "exception": false,
     "start_time": "2021-11-05T21:45:32.383152",
     "status": "completed"
    },
    "tags": []
   },
   "source": [
    "## 7.Model scores \n",
    "\n",
    "### Conclusion\n",
    "Random Forest Regression had a better score  at 0.88 than the others linear regression had 0.76 while Decision Tree Regression had 0.798 however this is just a baseline score as we have seen in the  data visualization this data has outliers which need to be dropped.A starting point was in our target varible (MEDV-price) which improved the score more will be done on the features to make even a better score."
   ]
  },
  {
   "cell_type": "code",
   "execution_count": null,
   "id": "a6e3fb2c",
   "metadata": {
    "papermill": {
     "duration": 0.049889,
     "end_time": "2021-11-05T21:45:32.533496",
     "exception": false,
     "start_time": "2021-11-05T21:45:32.483607",
     "status": "completed"
    },
    "tags": []
   },
   "outputs": [],
   "source": []
  }
 ],
 "metadata": {
  "kernelspec": {
   "display_name": "Python 3",
   "language": "python",
   "name": "python3"
  },
  "language_info": {
   "codemirror_mode": {
    "name": "ipython",
    "version": 3
   },
   "file_extension": ".py",
   "mimetype": "text/x-python",
   "name": "python",
   "nbconvert_exporter": "python",
   "pygments_lexer": "ipython3",
   "version": "3.8.8"
  },
  "papermill": {
   "default_parameters": {},
   "duration": 19.897522,
   "end_time": "2021-11-05T21:45:33.294798",
   "environment_variables": {},
   "exception": null,
   "input_path": "__notebook__.ipynb",
   "output_path": "__notebook__.ipynb",
   "parameters": {},
   "start_time": "2021-11-05T21:45:13.397276",
   "version": "2.3.3"
  }
 },
 "nbformat": 4,
 "nbformat_minor": 5
}
